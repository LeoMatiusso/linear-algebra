{
 "cells": [
  {
   "cell_type": "code",
   "execution_count": null,
   "id": "1f22e10b-41b4-4d66-9a6d-c7dffdb8937d",
   "metadata": {},
   "outputs": [],
   "source": [
    "# try cactch\n",
    "\n",
    "try:\n",
    "    np.matmul(B, A)\n",
    "except ValueError as err:\n",
    "    print(err)"
   ]
  }
 ],
 "metadata": {
  "kernelspec": {
   "display_name": "Python 3 (ipykernel)",
   "language": "python",
   "name": "python3"
  },
  "language_info": {
   "codemirror_mode": {
    "name": "ipython",
    "version": 3
   },
   "file_extension": ".py",
   "mimetype": "text/x-python",
   "name": "python",
   "nbconvert_exporter": "python",
   "pygments_lexer": "ipython3",
   "version": "3.12.4"
  }
 },
 "nbformat": 4,
 "nbformat_minor": 5
}
