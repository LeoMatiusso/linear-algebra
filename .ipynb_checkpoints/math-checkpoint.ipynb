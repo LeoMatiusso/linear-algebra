{
 "cells": [
  {
   "cell_type": "markdown",
   "id": "9885a668-4c9c-4fbd-9d60-547cd2952538",
   "metadata": {},
   "source": [
    "## Variables and mathematical operators\n",
    "\n",
    "Variables\n",
    "* Variables are assigned objects (numbers, strings, lists, dataframes, etc)\n",
    "* Think of a variable as box filled with an object as a similar process to assigning a variable.\n",
    "\n",
    "# Mathematical Operators\n",
    "\n",
    "Addition +\n",
    "Subtraction -\n",
    "Multiplication *\n",
    "Power **\n",
    "Division /\n",
    "Floor Division //\n",
    "Modulus %\n",
    "Integer int(number)\n",
    "Float float(number)\n",
    "\n",
    "-> type(var) -> returns type from var"
   ]
  },
  {
   "cell_type": "code",
   "execution_count": 10,
   "id": "abce7387-c4c5-4107-9798-a82f88a684b1",
   "metadata": {},
   "outputs": [
    {
     "data": {
      "text/plain": [
       "20"
      ]
     },
     "execution_count": 10,
     "metadata": {},
     "output_type": "execute_result"
    }
   ],
   "source": [
    "10 + 10"
   ]
  },
  {
   "cell_type": "code",
   "execution_count": 11,
   "id": "ee47f785-6f01-45a7-bde2-eb1405f33c1f",
   "metadata": {},
   "outputs": [
    {
     "data": {
      "text/plain": [
       "0"
      ]
     },
     "execution_count": 11,
     "metadata": {},
     "output_type": "execute_result"
    }
   ],
   "source": [
    "10 -10"
   ]
  },
  {
   "cell_type": "code",
   "execution_count": 12,
   "id": "5496150f-7986-45f9-ae4e-e253751662cb",
   "metadata": {},
   "outputs": [
    {
     "data": {
      "text/plain": [
       "100"
      ]
     },
     "execution_count": 12,
     "metadata": {},
     "output_type": "execute_result"
    }
   ],
   "source": [
    "10 * 10"
   ]
  },
  {
   "cell_type": "code",
   "execution_count": 13,
   "id": "dc47be7e-28e6-445f-a896-cd3200e856e8",
   "metadata": {},
   "outputs": [
    {
     "data": {
      "text/plain": [
       "10000000000"
      ]
     },
     "execution_count": 13,
     "metadata": {},
     "output_type": "execute_result"
    }
   ],
   "source": [
    "10 ** 10"
   ]
  },
  {
   "cell_type": "code",
   "execution_count": 14,
   "id": "f9dcd6f2-6d0b-4cc6-9630-5e51b8f8d07e",
   "metadata": {},
   "outputs": [
    {
     "data": {
      "text/plain": [
       "1.0"
      ]
     },
     "execution_count": 14,
     "metadata": {},
     "output_type": "execute_result"
    }
   ],
   "source": [
    "10 / 10"
   ]
  },
  {
   "cell_type": "code",
   "execution_count": 15,
   "id": "78cd6076-6009-4743-b24b-3021dc6aba44",
   "metadata": {},
   "outputs": [
    {
     "data": {
      "text/plain": [
       "1"
      ]
     },
     "execution_count": 15,
     "metadata": {},
     "output_type": "execute_result"
    }
   ],
   "source": [
    "10 //10"
   ]
  },
  {
   "cell_type": "code",
   "execution_count": 16,
   "id": "854c844b-3115-4788-ad6e-95c365a193ea",
   "metadata": {},
   "outputs": [
    {
     "data": {
      "text/plain": [
       "0"
      ]
     },
     "execution_count": 16,
     "metadata": {},
     "output_type": "execute_result"
    }
   ],
   "source": [
    "10 % 2"
   ]
  },
  {
   "cell_type": "code",
   "execution_count": 17,
   "id": "81911502-a353-4ee1-9bb1-30b24e2de12b",
   "metadata": {},
   "outputs": [
    {
     "data": {
      "text/plain": [
       "int"
      ]
     },
     "execution_count": 17,
     "metadata": {},
     "output_type": "execute_result"
    }
   ],
   "source": [
    "x = 30\n",
    "type(x)"
   ]
  }
 ],
 "metadata": {
  "kernelspec": {
   "display_name": "Python 3 (ipykernel)",
   "language": "python",
   "name": "python3"
  },
  "language_info": {
   "codemirror_mode": {
    "name": "ipython",
    "version": 3
   },
   "file_extension": ".py",
   "mimetype": "text/x-python",
   "name": "python",
   "nbconvert_exporter": "python",
   "pygments_lexer": "ipython3",
   "version": "3.12.4"
  }
 },
 "nbformat": 4,
 "nbformat_minor": 5
}
